{
 "cells": [
  {
   "cell_type": "markdown",
   "id": "dac9bb78",
   "metadata": {},
   "source": [
    "# Análise de Churn de Clientes - Projeto de Data Science\n",
    "**Autor**: \n",
    "Luis Felipe Barbosa Petrillo  \n",
    "**LinkedIn**: https://www.linkedin.com/in/luisfelipebp/  \n",
    "**GitHub**: https://github.com/luisfelipebp\n",
    "\n",
    "## Objetivo\n",
    "Analisar e prever o comportamento de churn (cancelamento) de clientes de uma empresa de telecomunicações utilizando técnicas de Machine Learning utilizando o dataset [Projeto Telco Customer Churn](https://www.kaggle.com/datasets/blastchar/telco-customer-churn) do Kaggle.\n",
    "\n",
    "## Análise Gráfica dos dados\n",
    "[Análise Gráfica](./Churn-Graphic.ipynb)\n"
   ]
  },
  {
   "cell_type": "markdown",
   "id": "0aeff4c9",
   "metadata": {},
   "source": [
    "###  Configuração Inicial \n",
    "\n",
    "- Importação de pacotes essenciais"
   ]
  },
  {
   "cell_type": "code",
   "execution_count": 37,
   "id": "37700e1a",
   "metadata": {},
   "outputs": [],
   "source": [
    "# Importação de Pacotes\n",
    "from ydata_profiling import ProfileReport\n",
    "import pandas as pd\n",
    "%matplotlib inline\n",
    "import matplotlib.pyplot as plt\n",
    "import seaborn as sns\n",
    "import numpy as np\n",
    "import warnings\n",
    "\n",
    "warnings.filterwarnings('ignore')"
   ]
  },
  {
   "cell_type": "markdown",
   "id": "b3fc4a8e",
   "metadata": {},
   "source": [
    "### Análise da Base de Dados de Churn de Clientes de Telecom\n",
    "\n",
    "- Nesta seção, faremos a importação e análise inicial da base de dados de clientes. "
   ]
  },
  {
   "cell_type": "code",
   "execution_count": 2,
   "id": "a1daac5e",
   "metadata": {},
   "outputs": [],
   "source": [
    "# Carregamento do conjunto de dados\n",
    "df = pd.read_csv(\"./Telco-Customer-Churn.csv\")"
   ]
  },
  {
   "cell_type": "code",
   "execution_count": 3,
   "id": "7b2c4049",
   "metadata": {},
   "outputs": [
    {
     "data": {
      "application/vnd.jupyter.widget-view+json": {
       "model_id": "080defa3217141fcad52a013bd0ca6ed",
       "version_major": 2,
       "version_minor": 0
      },
      "text/plain": [
       "Summarize dataset:   0%|          | 0/5 [00:00<?, ?it/s]"
      ]
     },
     "metadata": {},
     "output_type": "display_data"
    },
    {
     "name": "stderr",
     "output_type": "stream",
     "text": [
      "\n",
      "  0%|                                                                                           | 0/21 [00:00<?, ?it/s]\u001b[A\n",
      "  5%|███▉                                                                               | 1/21 [00:00<00:11,  1.77it/s]\u001b[A\n",
      "100%|██████████████████████████████████████████████████████████████████████████████████| 21/21 [00:00<00:00, 27.92it/s]\u001b[A\n"
     ]
    },
    {
     "data": {
      "application/vnd.jupyter.widget-view+json": {
       "model_id": "9906ac3c4ee24e62acec0f7f596c87c7",
       "version_major": 2,
       "version_minor": 0
      },
      "text/plain": [
       "Generate report structure:   0%|          | 0/1 [00:00<?, ?it/s]"
      ]
     },
     "metadata": {},
     "output_type": "display_data"
    },
    {
     "data": {
      "application/vnd.jupyter.widget-view+json": {
       "model_id": "675e16ea407248d590b2d642e3726d81",
       "version_major": 2,
       "version_minor": 0
      },
      "text/plain": [
       "Render HTML:   0%|          | 0/1 [00:00<?, ?it/s]"
      ]
     },
     "metadata": {},
     "output_type": "display_data"
    },
    {
     "data": {
      "application/vnd.jupyter.widget-view+json": {
       "model_id": "2c315620655c46e09a97acd293da5016",
       "version_major": 2,
       "version_minor": 0
      },
      "text/plain": [
       "Export report to file:   0%|          | 0/1 [00:00<?, ?it/s]"
      ]
     },
     "metadata": {},
     "output_type": "display_data"
    }
   ],
   "source": [
    "# Geração de relatório exploratório automático \n",
    "profile = ProfileReport(df, title=\"telco_churn_treino\")\n",
    "profile.to_file(\"telco_churn_treino.html\")"
   ]
  },
  {
   "cell_type": "code",
   "execution_count": 4,
   "id": "f95527d3",
   "metadata": {},
   "outputs": [
    {
     "data": {
      "text/plain": [
       "object     18\n",
       "int64       2\n",
       "float64     1\n",
       "Name: count, dtype: int64"
      ]
     },
     "execution_count": 4,
     "metadata": {},
     "output_type": "execute_result"
    }
   ],
   "source": [
    "# Análise inicial dos dados\n",
    "df.dtypes.value_counts()"
   ]
  },
  {
   "cell_type": "code",
   "execution_count": 5,
   "id": "5e924a03",
   "metadata": {},
   "outputs": [
    {
     "data": {
      "text/plain": [
       "customerID          0\n",
       "DeviceProtection    0\n",
       "TotalCharges        0\n",
       "MonthlyCharges      0\n",
       "PaymentMethod       0\n",
       "dtype: int64"
      ]
     },
     "execution_count": 5,
     "metadata": {},
     "output_type": "execute_result"
    }
   ],
   "source": [
    "# Identifica as colunas com maior quantidade de valores nulos\n",
    "df.isnull().sum().sort_values(ascending=False).head(5)"
   ]
  },
  {
   "cell_type": "code",
   "execution_count": 6,
   "id": "70d8b707",
   "metadata": {},
   "outputs": [
    {
     "data": {
      "text/html": [
       "<div>\n",
       "<style scoped>\n",
       "    .dataframe tbody tr th:only-of-type {\n",
       "        vertical-align: middle;\n",
       "    }\n",
       "\n",
       "    .dataframe tbody tr th {\n",
       "        vertical-align: top;\n",
       "    }\n",
       "\n",
       "    .dataframe thead th {\n",
       "        text-align: right;\n",
       "    }\n",
       "</style>\n",
       "<table border=\"1\" class=\"dataframe\">\n",
       "  <thead>\n",
       "    <tr style=\"text-align: right;\">\n",
       "      <th></th>\n",
       "      <th>customerID</th>\n",
       "      <th>gender</th>\n",
       "      <th>SeniorCitizen</th>\n",
       "      <th>Partner</th>\n",
       "      <th>Dependents</th>\n",
       "      <th>tenure</th>\n",
       "      <th>PhoneService</th>\n",
       "      <th>MultipleLines</th>\n",
       "      <th>InternetService</th>\n",
       "      <th>OnlineSecurity</th>\n",
       "      <th>...</th>\n",
       "      <th>DeviceProtection</th>\n",
       "      <th>TechSupport</th>\n",
       "      <th>StreamingTV</th>\n",
       "      <th>StreamingMovies</th>\n",
       "      <th>Contract</th>\n",
       "      <th>PaperlessBilling</th>\n",
       "      <th>PaymentMethod</th>\n",
       "      <th>MonthlyCharges</th>\n",
       "      <th>TotalCharges</th>\n",
       "      <th>Churn</th>\n",
       "    </tr>\n",
       "  </thead>\n",
       "  <tbody>\n",
       "    <tr>\n",
       "      <th>0</th>\n",
       "      <td>7590-VHVEG</td>\n",
       "      <td>Female</td>\n",
       "      <td>0</td>\n",
       "      <td>Yes</td>\n",
       "      <td>No</td>\n",
       "      <td>1</td>\n",
       "      <td>No</td>\n",
       "      <td>No phone service</td>\n",
       "      <td>DSL</td>\n",
       "      <td>No</td>\n",
       "      <td>...</td>\n",
       "      <td>No</td>\n",
       "      <td>No</td>\n",
       "      <td>No</td>\n",
       "      <td>No</td>\n",
       "      <td>Month-to-month</td>\n",
       "      <td>Yes</td>\n",
       "      <td>Electronic check</td>\n",
       "      <td>29.85</td>\n",
       "      <td>29.85</td>\n",
       "      <td>No</td>\n",
       "    </tr>\n",
       "    <tr>\n",
       "      <th>1</th>\n",
       "      <td>5575-GNVDE</td>\n",
       "      <td>Male</td>\n",
       "      <td>0</td>\n",
       "      <td>No</td>\n",
       "      <td>No</td>\n",
       "      <td>34</td>\n",
       "      <td>Yes</td>\n",
       "      <td>No</td>\n",
       "      <td>DSL</td>\n",
       "      <td>Yes</td>\n",
       "      <td>...</td>\n",
       "      <td>Yes</td>\n",
       "      <td>No</td>\n",
       "      <td>No</td>\n",
       "      <td>No</td>\n",
       "      <td>One year</td>\n",
       "      <td>No</td>\n",
       "      <td>Mailed check</td>\n",
       "      <td>56.95</td>\n",
       "      <td>1889.5</td>\n",
       "      <td>No</td>\n",
       "    </tr>\n",
       "    <tr>\n",
       "      <th>2</th>\n",
       "      <td>3668-QPYBK</td>\n",
       "      <td>Male</td>\n",
       "      <td>0</td>\n",
       "      <td>No</td>\n",
       "      <td>No</td>\n",
       "      <td>2</td>\n",
       "      <td>Yes</td>\n",
       "      <td>No</td>\n",
       "      <td>DSL</td>\n",
       "      <td>Yes</td>\n",
       "      <td>...</td>\n",
       "      <td>No</td>\n",
       "      <td>No</td>\n",
       "      <td>No</td>\n",
       "      <td>No</td>\n",
       "      <td>Month-to-month</td>\n",
       "      <td>Yes</td>\n",
       "      <td>Mailed check</td>\n",
       "      <td>53.85</td>\n",
       "      <td>108.15</td>\n",
       "      <td>Yes</td>\n",
       "    </tr>\n",
       "    <tr>\n",
       "      <th>3</th>\n",
       "      <td>7795-CFOCW</td>\n",
       "      <td>Male</td>\n",
       "      <td>0</td>\n",
       "      <td>No</td>\n",
       "      <td>No</td>\n",
       "      <td>45</td>\n",
       "      <td>No</td>\n",
       "      <td>No phone service</td>\n",
       "      <td>DSL</td>\n",
       "      <td>Yes</td>\n",
       "      <td>...</td>\n",
       "      <td>Yes</td>\n",
       "      <td>Yes</td>\n",
       "      <td>No</td>\n",
       "      <td>No</td>\n",
       "      <td>One year</td>\n",
       "      <td>No</td>\n",
       "      <td>Bank transfer (automatic)</td>\n",
       "      <td>42.30</td>\n",
       "      <td>1840.75</td>\n",
       "      <td>No</td>\n",
       "    </tr>\n",
       "  </tbody>\n",
       "</table>\n",
       "<p>4 rows × 21 columns</p>\n",
       "</div>"
      ],
      "text/plain": [
       "   customerID  gender  SeniorCitizen Partner Dependents  tenure PhoneService  \\\n",
       "0  7590-VHVEG  Female              0     Yes         No       1           No   \n",
       "1  5575-GNVDE    Male              0      No         No      34          Yes   \n",
       "2  3668-QPYBK    Male              0      No         No       2          Yes   \n",
       "3  7795-CFOCW    Male              0      No         No      45           No   \n",
       "\n",
       "      MultipleLines InternetService OnlineSecurity  ... DeviceProtection  \\\n",
       "0  No phone service             DSL             No  ...               No   \n",
       "1                No             DSL            Yes  ...              Yes   \n",
       "2                No             DSL            Yes  ...               No   \n",
       "3  No phone service             DSL            Yes  ...              Yes   \n",
       "\n",
       "  TechSupport StreamingTV StreamingMovies        Contract PaperlessBilling  \\\n",
       "0          No          No              No  Month-to-month              Yes   \n",
       "1          No          No              No        One year               No   \n",
       "2          No          No              No  Month-to-month              Yes   \n",
       "3         Yes          No              No        One year               No   \n",
       "\n",
       "               PaymentMethod MonthlyCharges  TotalCharges Churn  \n",
       "0           Electronic check          29.85         29.85    No  \n",
       "1               Mailed check          56.95        1889.5    No  \n",
       "2               Mailed check          53.85        108.15   Yes  \n",
       "3  Bank transfer (automatic)          42.30       1840.75    No  \n",
       "\n",
       "[4 rows x 21 columns]"
      ]
     },
     "execution_count": 6,
     "metadata": {},
     "output_type": "execute_result"
    }
   ],
   "source": [
    "# Exibe os 4 primeiros registros\n",
    "df.head(4)"
   ]
  },
  {
   "cell_type": "code",
   "execution_count": 7,
   "id": "33b46281",
   "metadata": {},
   "outputs": [
    {
     "name": "stdout",
     "output_type": "stream",
     "text": [
      "<class 'pandas.core.frame.DataFrame'>\n",
      "RangeIndex: 7043 entries, 0 to 7042\n",
      "Data columns (total 21 columns):\n",
      " #   Column            Non-Null Count  Dtype  \n",
      "---  ------            --------------  -----  \n",
      " 0   customerID        7043 non-null   object \n",
      " 1   gender            7043 non-null   object \n",
      " 2   SeniorCitizen     7043 non-null   int64  \n",
      " 3   Partner           7043 non-null   object \n",
      " 4   Dependents        7043 non-null   object \n",
      " 5   tenure            7043 non-null   int64  \n",
      " 6   PhoneService      7043 non-null   object \n",
      " 7   MultipleLines     7043 non-null   object \n",
      " 8   InternetService   7043 non-null   object \n",
      " 9   OnlineSecurity    7043 non-null   object \n",
      " 10  OnlineBackup      7043 non-null   object \n",
      " 11  DeviceProtection  7043 non-null   object \n",
      " 12  TechSupport       7043 non-null   object \n",
      " 13  StreamingTV       7043 non-null   object \n",
      " 14  StreamingMovies   7043 non-null   object \n",
      " 15  Contract          7043 non-null   object \n",
      " 16  PaperlessBilling  7043 non-null   object \n",
      " 17  PaymentMethod     7043 non-null   object \n",
      " 18  MonthlyCharges    7043 non-null   float64\n",
      " 19  TotalCharges      7043 non-null   object \n",
      " 20  Churn             7043 non-null   object \n",
      "dtypes: float64(1), int64(2), object(18)\n",
      "memory usage: 1.1+ MB\n"
     ]
    }
   ],
   "source": [
    "df.info()"
   ]
  },
  {
   "cell_type": "code",
   "execution_count": 8,
   "id": "0d2659a8",
   "metadata": {},
   "outputs": [
    {
     "data": {
      "text/plain": [
       "customerID          7043\n",
       "TotalCharges        6531\n",
       "MonthlyCharges      1585\n",
       "tenure                73\n",
       "PaymentMethod          4\n",
       "DeviceProtection       3\n",
       "Contract               3\n",
       "StreamingMovies        3\n",
       "StreamingTV            3\n",
       "TechSupport            3\n",
       "OnlineBackup           3\n",
       "OnlineSecurity         3\n",
       "InternetService        3\n",
       "MultipleLines          3\n",
       "gender                 2\n",
       "PhoneService           2\n",
       "PaperlessBilling       2\n",
       "Dependents             2\n",
       "Partner                2\n",
       "SeniorCitizen          2\n",
       "Churn                  2\n",
       "dtype: int64"
      ]
     },
     "execution_count": 8,
     "metadata": {},
     "output_type": "execute_result"
    }
   ],
   "source": [
    "# Verifica a quantidade de valores únicos em cada coluna (cardinalidade)\n",
    "df.nunique().sort_values(ascending=False)\n"
   ]
  },
  {
   "cell_type": "markdown",
   "id": "7ef0bcab",
   "metadata": {},
   "source": [
    "### Tratamento dos Dados\n",
    "\n",
    "- Nesta etapa, vamos transformar variáveis categóricas em forma numérica para utilização em modelos de previsão."
   ]
  },
  {
   "cell_type": "code",
   "execution_count": 9,
   "id": "4274089b",
   "metadata": {},
   "outputs": [],
   "source": [
    "# Converte colunas com duas categorias (Yes/No) para 1 e 0\n",
    "binary_columns = ['Partner', 'Dependents', 'PhoneService', 'PaperlessBilling', 'Churn']\n",
    "for col in binary_columns:\n",
    "    df[col] = df[col].map({'Yes': 1, 'No': 0})\n",
    "\n",
    "# Opicionalmente, mapear gênero (Male/Female) da mesma forma\n",
    "df['gender'] = df['gender'].map({'Male': 1, 'Female': 0})"
   ]
  },
  {
   "cell_type": "code",
   "execution_count": 10,
   "id": "570b988c",
   "metadata": {},
   "outputs": [],
   "source": [
    "# Transformando as variáveis categóricas ordinais (onde a ordem dos valores tem importância)\n",
    "# para valores numéricos utilizando o OrdinalEncoder\n",
    "\n",
    "from sklearn.preprocessing import OrdinalEncoder\n",
    "\n",
    "order = [['Month-to-month', 'One year', 'Two year']]  \n",
    "\n",
    "encoder = OrdinalEncoder(categories=order)\n",
    "df[['Contract']] = encoder.fit_transform(df[['Contract']])"
   ]
  },
  {
   "cell_type": "code",
   "execution_count": 11,
   "id": "b03da716",
   "metadata": {},
   "outputs": [],
   "source": [
    "#Transformando as variáveis categóricas nominais (sem ordem) em múltiplas colunas binárias utilizando o OneHotEncoder\n",
    "from sklearn.preprocessing import OneHotEncoder\n",
    "\n",
    "ohe = OneHotEncoder(handle_unknown='ignore',dtype='int32')\n",
    "\n",
    "cols_ohe = [\n",
    "    'MultipleLines', 'InternetService', 'OnlineSecurity', \n",
    "    'OnlineBackup', 'DeviceProtection', 'TechSupport', \n",
    "    'StreamingTV', 'StreamingMovies', 'PaymentMethod'\n",
    "]\n",
    "\n",
    "ohe = ohe.fit(df[cols_ohe])\n",
    "\n",
    "# Configura o codificador para ignorar categorias desconhecidas e gerar resultados em inteiros\n",
    "ohe.transform(df[cols_ohe]).toarray()\n",
    "\n",
    "# Cria um novo DataFrame com as colunas One-Hot e nomes explícitos\n",
    "ohe_df = pd.DataFrame(ohe.transform(df[cols_ohe]).toarray(),columns=ohe.get_feature_names_out())"
   ]
  },
  {
   "cell_type": "code",
   "execution_count": 12,
   "id": "906a3b43",
   "metadata": {},
   "outputs": [],
   "source": [
    "# Substitui as colunas originais pelas colunas One-Hot no DataFrame final\n",
    "df = pd.concat([df,ohe_df],axis=1)"
   ]
  },
  {
   "cell_type": "code",
   "execution_count": 13,
   "id": "2e36d287",
   "metadata": {},
   "outputs": [
    {
     "name": "stdout",
     "output_type": "stream",
     "text": [
      "<class 'pandas.core.frame.DataFrame'>\n",
      "RangeIndex: 7043 entries, 0 to 7042\n",
      "Data columns (total 40 columns):\n",
      " #   Column                                   Non-Null Count  Dtype  \n",
      "---  ------                                   --------------  -----  \n",
      " 0   customerID                               7043 non-null   object \n",
      " 1   gender                                   7043 non-null   int64  \n",
      " 2   SeniorCitizen                            7043 non-null   int64  \n",
      " 3   Partner                                  7043 non-null   int64  \n",
      " 4   Dependents                               7043 non-null   int64  \n",
      " 5   tenure                                   7043 non-null   int64  \n",
      " 6   PhoneService                             7043 non-null   int64  \n",
      " 7   Contract                                 7043 non-null   float64\n",
      " 8   PaperlessBilling                         7043 non-null   int64  \n",
      " 9   MonthlyCharges                           7043 non-null   float64\n",
      " 10  TotalCharges                             7043 non-null   object \n",
      " 11  Churn                                    7043 non-null   int64  \n",
      " 12  MultipleLines_No                         7043 non-null   int32  \n",
      " 13  MultipleLines_No phone service           7043 non-null   int32  \n",
      " 14  MultipleLines_Yes                        7043 non-null   int32  \n",
      " 15  InternetService_DSL                      7043 non-null   int32  \n",
      " 16  InternetService_Fiber optic              7043 non-null   int32  \n",
      " 17  InternetService_No                       7043 non-null   int32  \n",
      " 18  OnlineSecurity_No                        7043 non-null   int32  \n",
      " 19  OnlineSecurity_No internet service       7043 non-null   int32  \n",
      " 20  OnlineSecurity_Yes                       7043 non-null   int32  \n",
      " 21  OnlineBackup_No                          7043 non-null   int32  \n",
      " 22  OnlineBackup_No internet service         7043 non-null   int32  \n",
      " 23  OnlineBackup_Yes                         7043 non-null   int32  \n",
      " 24  DeviceProtection_No                      7043 non-null   int32  \n",
      " 25  DeviceProtection_No internet service     7043 non-null   int32  \n",
      " 26  DeviceProtection_Yes                     7043 non-null   int32  \n",
      " 27  TechSupport_No                           7043 non-null   int32  \n",
      " 28  TechSupport_No internet service          7043 non-null   int32  \n",
      " 29  TechSupport_Yes                          7043 non-null   int32  \n",
      " 30  StreamingTV_No                           7043 non-null   int32  \n",
      " 31  StreamingTV_No internet service          7043 non-null   int32  \n",
      " 32  StreamingTV_Yes                          7043 non-null   int32  \n",
      " 33  StreamingMovies_No                       7043 non-null   int32  \n",
      " 34  StreamingMovies_No internet service      7043 non-null   int32  \n",
      " 35  StreamingMovies_Yes                      7043 non-null   int32  \n",
      " 36  PaymentMethod_Bank transfer (automatic)  7043 non-null   int32  \n",
      " 37  PaymentMethod_Credit card (automatic)    7043 non-null   int32  \n",
      " 38  PaymentMethod_Electronic check           7043 non-null   int32  \n",
      " 39  PaymentMethod_Mailed check               7043 non-null   int32  \n",
      "dtypes: float64(2), int32(28), int64(8), object(2)\n",
      "memory usage: 1.4+ MB\n"
     ]
    }
   ],
   "source": [
    "# Remove as colunas com os valores antes da transformação\n",
    "df = df.drop(cols_ohe,axis=1)\n",
    "df.info()"
   ]
  },
  {
   "cell_type": "code",
   "execution_count": 14,
   "id": "231053ff",
   "metadata": {},
   "outputs": [],
   "source": [
    "df['TotalCharges'] = df[\"TotalCharges\"].str.replace(',', '.', regex=True).str.replace('h', '.', regex=True).apply(pd.to_numeric, errors='coerce')"
   ]
  },
  {
   "cell_type": "code",
   "execution_count": 15,
   "id": "ae9ad6d5",
   "metadata": {},
   "outputs": [],
   "source": [
    "# Substitui os valores nulos pela média da coluna\n",
    "df.loc[df['tenure'] == 0, 'TotalCharges'] = 0"
   ]
  },
  {
   "cell_type": "markdown",
   "id": "5de1521e",
   "metadata": {},
   "source": [
    "###  Modelo de Treinamento de Classificação\n",
    "\n",
    "- Nesta etapa, vamos treinar e comparar três algoritmos de classificação:\n",
    "1. **Árvore de Decisão**  \n",
    "2. **K-Nearest Neighbors (KNN)**  \n",
    "3. **Regressão Logística** "
   ]
  },
  {
   "cell_type": "code",
   "execution_count": 16,
   "id": "984dbb82",
   "metadata": {},
   "outputs": [],
   "source": [
    "# Importando o train_test_split\n",
    "from sklearn.model_selection import train_test_split"
   ]
  },
  {
   "cell_type": "code",
   "execution_count": 17,
   "id": "621c98ea",
   "metadata": {},
   "outputs": [],
   "source": [
    "# Separando features (X) e target (y)\n",
    "# Excluímos colunas não relevantes para o modelo (customerID e Churn)\n",
    "X = df.drop(['customerID','Churn'],axis=1)\n",
    "y = df.Churn"
   ]
  },
  {
   "cell_type": "code",
   "execution_count": 18,
   "id": "24a9b228",
   "metadata": {},
   "outputs": [],
   "source": [
    "# Divisão em treino (67%) e teste (33%)\n",
    "X_train, X_test, y_train, y_test = train_test_split(X, y, test_size=0.33)"
   ]
  },
  {
   "cell_type": "markdown",
   "id": "cd358995",
   "metadata": {},
   "source": [
    "- Árvore de Decisão"
   ]
  },
  {
   "cell_type": "code",
   "execution_count": 19,
   "id": "78887392",
   "metadata": {},
   "outputs": [],
   "source": [
    "from sklearn import tree"
   ]
  },
  {
   "cell_type": "code",
   "execution_count": 20,
   "id": "c0af12e7",
   "metadata": {},
   "outputs": [],
   "source": [
    "# Instancia o modelo de Árvore de Decisão\n",
    "clf_ac = tree.DecisionTreeClassifier()\n",
    "# Treina o modelo com os dados de treino\n",
    "clf_ac = clf_ac.fit(X_train,y_train)\n",
    "# Faz previsões no conjunto de teste\n",
    "y_pred_ac = clf_ac.predict(X_test)"
   ]
  },
  {
   "cell_type": "code",
   "execution_count": 21,
   "id": "84b46a66",
   "metadata": {},
   "outputs": [],
   "source": [
    "X_test = np.ascontiguousarray(X_test.values)  # Se X_test for um DataFrame"
   ]
  },
  {
   "cell_type": "markdown",
   "id": "99c08b5e",
   "metadata": {},
   "source": [
    "- K-Nearest Neighbors (KNN)"
   ]
  },
  {
   "cell_type": "code",
   "execution_count": 22,
   "id": "a0512da1",
   "metadata": {},
   "outputs": [],
   "source": [
    "from sklearn.neighbors import KNeighborsClassifier"
   ]
  },
  {
   "cell_type": "code",
   "execution_count": 23,
   "id": "37666dd2",
   "metadata": {},
   "outputs": [],
   "source": [
    "# Instancia o modelo KNN com 3 vizinhos\n",
    "clf_knn = KNeighborsClassifier(n_neighbors=3)\n",
    "# Treina o modelo com os dados de treino\n",
    "clf_knn = clf_knn.fit(X_train,y_train)\n",
    "# Faz previsões no conjunto de teste\n",
    "y_pred_knn = clf_knn.predict(X_test)"
   ]
  },
  {
   "cell_type": "markdown",
   "id": "1e57a6d2",
   "metadata": {},
   "source": [
    "- Regressão Logística"
   ]
  },
  {
   "cell_type": "code",
   "execution_count": 24,
   "id": "77ceb3a5",
   "metadata": {},
   "outputs": [],
   "source": [
    "from sklearn.linear_model import LogisticRegression"
   ]
  },
  {
   "cell_type": "code",
   "execution_count": 25,
   "id": "984de6e7",
   "metadata": {},
   "outputs": [],
   "source": [
    "# Instancia o modelo com aumento de iterações para garantir convergência\n",
    "clf_rl = LogisticRegression(max_iter=1000)\n",
    "# Treina o modelo\n",
    "clf_rl = clf_rl.fit(X_train,y_train)\n",
    "# Faz previsões\n",
    "y_pred_rl = clf_rl.predict(X_test)"
   ]
  },
  {
   "cell_type": "markdown",
   "id": "81a15a69",
   "metadata": {},
   "source": [
    "- Verificando acurácia"
   ]
  },
  {
   "cell_type": "code",
   "execution_count": 26,
   "id": "efb992e6",
   "metadata": {},
   "outputs": [],
   "source": [
    "# Importando\n",
    "from sklearn.metrics import accuracy_score"
   ]
  },
  {
   "cell_type": "code",
   "execution_count": 27,
   "id": "da91d4d8",
   "metadata": {},
   "outputs": [],
   "source": [
    "acuracia_arvore = accuracy_score(y_test, y_pred_ac)\n",
    "acuracia_knn = accuracy_score(y_test, y_pred_knn)\n",
    "acuracia_rl = accuracy_score(y_test, y_pred_rl)"
   ]
  },
  {
   "cell_type": "code",
   "execution_count": 28,
   "id": "643e4cc9",
   "metadata": {},
   "outputs": [
    {
     "name": "stdout",
     "output_type": "stream",
     "text": [
      "Acurácia Árvore: 0.73\n",
      "Acurácia KNN: 0.75\n",
      "Acurácia Regressão Logística: 0.81\n"
     ]
    }
   ],
   "source": [
    "print(f\"Acurácia Árvore: {acuracia_arvore:.2f}\")\n",
    "print(f\"Acurácia KNN: {acuracia_knn:.2f}\")\n",
    "print(f\"Acurácia Regressão Logística: {acuracia_rl:.2f}\")"
   ]
  },
  {
   "cell_type": "code",
   "execution_count": 29,
   "id": "a2c29944",
   "metadata": {},
   "outputs": [],
   "source": [
    "# Importando\n",
    "from sklearn.metrics import confusion_matrix"
   ]
  },
  {
   "cell_type": "code",
   "execution_count": 30,
   "id": "9fefb31d",
   "metadata": {},
   "outputs": [
    {
     "data": {
      "text/plain": [
       "array([[1368,  326],\n",
       "       [ 303,  328]], dtype=int64)"
      ]
     },
     "execution_count": 30,
     "metadata": {},
     "output_type": "execute_result"
    }
   ],
   "source": [
    "# árvore\n",
    "confusion_matrix(y_test, y_pred_ac)"
   ]
  },
  {
   "cell_type": "code",
   "execution_count": 31,
   "id": "8f0aa761",
   "metadata": {},
   "outputs": [
    {
     "data": {
      "text/plain": [
       "array([[1442,  252],\n",
       "       [ 338,  293]], dtype=int64)"
      ]
     },
     "execution_count": 31,
     "metadata": {},
     "output_type": "execute_result"
    }
   ],
   "source": [
    "# knn\n",
    "confusion_matrix(y_test, y_pred_knn)"
   ]
  },
  {
   "cell_type": "code",
   "execution_count": 32,
   "id": "5bdc15ff",
   "metadata": {},
   "outputs": [
    {
     "data": {
      "text/plain": [
       "array([[1528,  166],\n",
       "       [ 287,  344]], dtype=int64)"
      ]
     },
     "execution_count": 32,
     "metadata": {},
     "output_type": "execute_result"
    }
   ],
   "source": [
    "# regressão logística\n",
    "confusion_matrix(y_test, y_pred_rl)"
   ]
  },
  {
   "cell_type": "code",
   "execution_count": 39,
   "id": "dc2408b0",
   "metadata": {},
   "outputs": [
    {
     "data": {
      "image/png": "[encoded data removed]",
      "text/plain": [
       "<Figure size 640x480 with 1 Axes>"
      ]
     },
     "metadata": {},
     "output_type": "display_data"
    }
   ],
   "source": [
    "from sklearn.metrics import roc_curve, roc_auc_score\n",
    "\n",
    "# probabilidades de classe positiva\n",
    "y_probs = clf_ac.predict_proba(X_test)[:, 1]  # clf_ac = modelo de árvore\n",
    "\n",
    "# calcular FPR e TPR\n",
    "fpr, tpr, thresholds = roc_curve(y_test, y_probs)\n",
    "\n",
    "# calcular AUC\n",
    "auc_score = roc_auc_score(y_test, y_probs)\n",
    "\n",
    "plt.plot(fpr, tpr, label=f'AUC = {auc_score:.2f}')\n",
    "plt.plot([0,1], [0,1], linestyle='--')\n",
    "plt.xlabel('Taxa de Falsos Positivos')\n",
    "plt.ylabel('Taxa de Verdadeiros Positivos')\n",
    "plt.title('Curva ROC - Árvore de Decisão')\n",
    "plt.legend()\n",
    "plt.show()\n",
    "\n"
   ]
  }
 ],
 "metadata": {
  "kernelspec": {
   "display_name": "Python 3 (ipykernel)",
   "language": "python",
   "name": "python3"
  },
  "language_info": {
   "codemirror_mode": {
    "name": "ipython",
    "version": 3
   },
   "file_extension": ".py",
   "mimetype": "text/x-python",
   "name": "python",
   "nbconvert_exporter": "python",
   "pygments_lexer": "ipython3",
   "version": "3.11.5"
  }
 },
 "nbformat": 4,
 "nbformat_minor": 5
}
